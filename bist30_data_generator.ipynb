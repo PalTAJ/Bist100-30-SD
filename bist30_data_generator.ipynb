{
 "cells": [
  {
   "cell_type": "code",
   "execution_count": 18,
   "metadata": {},
   "outputs": [],
   "source": [
    "import  requests \n",
    "import pandas as pd\n",
    "import investpy\n",
    "\n",
    "\n",
    "from urllib.error import URLError, HTTPError\n",
    "from urllib3.exceptions import SSLError\n",
    "\n",
    "from requests.exceptions import HTTPError\n",
    "from bs4 import BeautifulSoup\n",
    "from urllib.request import urlopen, Request\n",
    "from socket import timeout\n",
    "\n",
    "from selenium import webdriver\n",
    "from selenium.webdriver.chrome.options import Options\n",
    "from selenium.webdriver.common.by import By\n",
    "from selenium.webdriver.common.keys import Keys\n",
    "from selenium.webdriver.support.ui import WebDriverWait\n",
    "from selenium.webdriver.support.expected_conditions import presence_of_element_located\n",
    "import time\n",
    "import sys"
   ]
  },
  {
   "cell_type": "code",
   "execution_count": 5,
   "metadata": {},
   "outputs": [],
   "source": [
    "link = 'https://www.investing.com/equities/turkey'\n",
    "\n",
    "list_of_stock_links = []"
   ]
  },
  {
   "cell_type": "code",
   "execution_count": 7,
   "metadata": {},
   "outputs": [],
   "source": [
    "\n",
    "chrome_driver_path = 'selenium_p/chromedriver'\n",
    "driver = webdriver.Chrome(executable_path=chrome_driver_path)\n",
    "driver.set_page_load_timeout('10')\n",
    "driver.get(link)\n",
    "\n",
    "\n",
    "driver.find_element_by_id('19158').click()\n",
    "time.sleep(5)\n",
    "\n",
    "html = driver.page_source\n",
    "\n",
    "time.sleep(4)\n",
    "driver.quit()\n",
    "\n"
   ]
  },
  {
   "cell_type": "code",
   "execution_count": 8,
   "metadata": {},
   "outputs": [
    {
     "name": "stdout",
     "output_type": "stream",
     "text": [
      "30\n",
      "www.investing.com/equities/kardemir-(d)\n"
     ]
    }
   ],
   "source": [
    "list_of_stock_links = []\n",
    "soup = BeautifulSoup(html, \"html.parser\")\n",
    "    \n",
    "data = soup.findAll('table', {'id': 'cross_rate_markets_stocks_1'})\n",
    "data2 = data[0].findAll('tbody')[0].findAll('tr')\n",
    "    \n",
    "for stock in data2:\n",
    "    link = str(stock.findAll('a')).split('href=\"')[1].split('\"')[0]\n",
    "    list_of_stock_links.append(f\"www.investing.com{link.strip()}\")\n",
    "\n",
    "print(len(list_of_stock_links))\n",
    "print(list_of_stock_links[0])"
   ]
  },
  {
   "cell_type": "code",
   "execution_count": 9,
   "metadata": {},
   "outputs": [
    {
     "data": {
      "text/html": [
       "<div>\n",
       "<style scoped>\n",
       "    .dataframe tbody tr th:only-of-type {\n",
       "        vertical-align: middle;\n",
       "    }\n",
       "\n",
       "    .dataframe tbody tr th {\n",
       "        vertical-align: top;\n",
       "    }\n",
       "\n",
       "    .dataframe thead th {\n",
       "        text-align: right;\n",
       "    }\n",
       "</style>\n",
       "<table border=\"1\" class=\"dataframe\">\n",
       "  <thead>\n",
       "    <tr style=\"text-align: right;\">\n",
       "      <th></th>\n",
       "      <th>Links</th>\n",
       "    </tr>\n",
       "  </thead>\n",
       "  <tbody>\n",
       "    <tr>\n",
       "      <th>0</th>\n",
       "      <td>www.investing.com/equities/kardemir-(d)</td>\n",
       "    </tr>\n",
       "    <tr>\n",
       "      <th>1</th>\n",
       "      <td>www.investing.com/equities/sise-cam</td>\n",
       "    </tr>\n",
       "    <tr>\n",
       "      <th>2</th>\n",
       "      <td>www.investing.com/equities/yapi-ve-kredi-bank.</td>\n",
       "    </tr>\n",
       "    <tr>\n",
       "      <th>3</th>\n",
       "      <td>www.investing.com/equities/petkim</td>\n",
       "    </tr>\n",
       "    <tr>\n",
       "      <th>4</th>\n",
       "      <td>www.investing.com/equities/emlak-konut-gmyo</td>\n",
       "    </tr>\n",
       "  </tbody>\n",
       "</table>\n",
       "</div>"
      ],
      "text/plain": [
       "                                            Links\n",
       "0         www.investing.com/equities/kardemir-(d)\n",
       "1             www.investing.com/equities/sise-cam\n",
       "2  www.investing.com/equities/yapi-ve-kredi-bank.\n",
       "3               www.investing.com/equities/petkim\n",
       "4     www.investing.com/equities/emlak-konut-gmyo"
      ]
     },
     "execution_count": 9,
     "metadata": {},
     "output_type": "execute_result"
    }
   ],
   "source": [
    "df = pd.DataFrame(list_of_stock_links, columns =['Links'])\n",
    "df.to_csv('datasets/BIST_30_links.csv', encoding='utf-8', index=False)\n",
    "\n",
    "df.head() "
   ]
  },
  {
   "cell_type": "code",
   "execution_count": 23,
   "metadata": {},
   "outputs": [
    {
     "name": "stdout",
     "output_type": "stream",
     "text": [
      "30\n"
     ]
    }
   ],
   "source": [
    "bist30_links_stockname = []\n",
    "c = 0\n",
    "## Getting stocks names, full names\n",
    "for url in list_of_stock_links:\n",
    "    try: \n",
    "\n",
    "        headers = {'User-Agent': 'Mozilla/5.0 (Windows NT 6.1) AppleWebKit/537.36 (KHTML, like Gecko) Chrome/41.0.2228.0 Safari/537.3'}\n",
    "        reg_url = 'https://'+url\n",
    "        req = Request(url=reg_url, headers=headers) \n",
    "        html = urlopen(req).read()     \n",
    "        soup = BeautifulSoup(html, \"html.parser\")\n",
    "        data = soup.findAll('div', {'class': 'instrumentHead'})[0]\n",
    "        full_name = str(data).split('\"name\">')[1].split('</h1>')[0].strip()\n",
    "        stock_name = str(data).split('\"name\">')[1].split('</h1>')[0].strip().split('(')[1].split(')')[0]\n",
    "        bist30_links_stockname.append([url ,full_name ,stock_name])\n",
    "         \n",
    "    except HTTPError as http_err:\n",
    "        print(f'HTTP error occurred: {http_err}')  \n",
    "    except Exception as err:\n",
    "        print(f'Other error occurred: {err}')  \n",
    "    except Exception as err:\n",
    "        print(f'Other error occurred: {err}')  \n",
    "    \n",
    "print(len(bist30_links_stockname))"
   ]
  },
  {
   "cell_type": "code",
   "execution_count": null,
   "metadata": {},
   "outputs": [],
   "source": []
  },
  {
   "cell_type": "code",
   "execution_count": 24,
   "metadata": {},
   "outputs": [
    {
     "data": {
      "text/html": [
       "<div>\n",
       "<style scoped>\n",
       "    .dataframe tbody tr th:only-of-type {\n",
       "        vertical-align: middle;\n",
       "    }\n",
       "\n",
       "    .dataframe tbody tr th {\n",
       "        vertical-align: top;\n",
       "    }\n",
       "\n",
       "    .dataframe thead th {\n",
       "        text-align: right;\n",
       "    }\n",
       "</style>\n",
       "<table border=\"1\" class=\"dataframe\">\n",
       "  <thead>\n",
       "    <tr style=\"text-align: right;\">\n",
       "      <th></th>\n",
       "      <th>Link</th>\n",
       "      <th>Full_Name</th>\n",
       "      <th>Stock_Name</th>\n",
       "    </tr>\n",
       "  </thead>\n",
       "  <tbody>\n",
       "    <tr>\n",
       "      <th>0</th>\n",
       "      <td>www.investing.com/equities/kardemir-(d)</td>\n",
       "      <td>Kardemir Karabuk Demir Celik Sanayi ve Ticaret...</td>\n",
       "      <td>KRDMD</td>\n",
       "    </tr>\n",
       "    <tr>\n",
       "      <th>1</th>\n",
       "      <td>www.investing.com/equities/sise-cam</td>\n",
       "      <td>Turkiye Sise ve Cam Fabrikalari AS (SISE)</td>\n",
       "      <td>SISE</td>\n",
       "    </tr>\n",
       "    <tr>\n",
       "      <th>2</th>\n",
       "      <td>www.investing.com/equities/yapi-ve-kredi-bank.</td>\n",
       "      <td>Yapi ve Kredi Bankasi AS (YKBNK)</td>\n",
       "      <td>YKBNK</td>\n",
       "    </tr>\n",
       "    <tr>\n",
       "      <th>3</th>\n",
       "      <td>www.investing.com/equities/petkim</td>\n",
       "      <td>Petkim Petrokimya Holding AS (PETKM)</td>\n",
       "      <td>PETKM</td>\n",
       "    </tr>\n",
       "    <tr>\n",
       "      <th>4</th>\n",
       "      <td>www.investing.com/equities/emlak-konut-gmyo</td>\n",
       "      <td>Emlak Konut Gayrimenkul Yatirim Ortakligi AS (...</td>\n",
       "      <td>EKGYO</td>\n",
       "    </tr>\n",
       "  </tbody>\n",
       "</table>\n",
       "</div>"
      ],
      "text/plain": [
       "                                             Link  \\\n",
       "0         www.investing.com/equities/kardemir-(d)   \n",
       "1             www.investing.com/equities/sise-cam   \n",
       "2  www.investing.com/equities/yapi-ve-kredi-bank.   \n",
       "3               www.investing.com/equities/petkim   \n",
       "4     www.investing.com/equities/emlak-konut-gmyo   \n",
       "\n",
       "                                           Full_Name Stock_Name  \n",
       "0  Kardemir Karabuk Demir Celik Sanayi ve Ticaret...      KRDMD  \n",
       "1          Turkiye Sise ve Cam Fabrikalari AS (SISE)       SISE  \n",
       "2                   Yapi ve Kredi Bankasi AS (YKBNK)      YKBNK  \n",
       "3               Petkim Petrokimya Holding AS (PETKM)      PETKM  \n",
       "4  Emlak Konut Gayrimenkul Yatirim Ortakligi AS (...      EKGYO  "
      ]
     },
     "execution_count": 24,
     "metadata": {},
     "output_type": "execute_result"
    }
   ],
   "source": [
    "df2 = pd.DataFrame(bist30_links_stockname, columns =['Link','Full_Name','Stock_Name'])\n",
    "df2.to_csv('datasets/BIST_30_links_stockName.csv', encoding='utf-8', index=False)\n",
    "\n",
    "df2.head() "
   ]
  },
  {
   "cell_type": "code",
   "execution_count": 25,
   "metadata": {},
   "outputs": [
    {
     "data": {
      "text/html": [
       "<div>\n",
       "<style scoped>\n",
       "    .dataframe tbody tr th:only-of-type {\n",
       "        vertical-align: middle;\n",
       "    }\n",
       "\n",
       "    .dataframe tbody tr th {\n",
       "        vertical-align: top;\n",
       "    }\n",
       "\n",
       "    .dataframe thead th {\n",
       "        text-align: right;\n",
       "    }\n",
       "</style>\n",
       "<table border=\"1\" class=\"dataframe\">\n",
       "  <thead>\n",
       "    <tr style=\"text-align: right;\">\n",
       "      <th></th>\n",
       "      <th>Stock_Name</th>\n",
       "    </tr>\n",
       "  </thead>\n",
       "  <tbody>\n",
       "    <tr>\n",
       "      <th>0</th>\n",
       "      <td>KRDMD</td>\n",
       "    </tr>\n",
       "    <tr>\n",
       "      <th>1</th>\n",
       "      <td>SISE</td>\n",
       "    </tr>\n",
       "    <tr>\n",
       "      <th>2</th>\n",
       "      <td>YKBNK</td>\n",
       "    </tr>\n",
       "    <tr>\n",
       "      <th>3</th>\n",
       "      <td>PETKM</td>\n",
       "    </tr>\n",
       "    <tr>\n",
       "      <th>4</th>\n",
       "      <td>EKGYO</td>\n",
       "    </tr>\n",
       "  </tbody>\n",
       "</table>\n",
       "</div>"
      ],
      "text/plain": [
       "  Stock_Name\n",
       "0      KRDMD\n",
       "1       SISE\n",
       "2      YKBNK\n",
       "3      PETKM\n",
       "4      EKGYO"
      ]
     },
     "execution_count": 25,
     "metadata": {},
     "output_type": "execute_result"
    }
   ],
   "source": [
    "df3 = df2[['Stock_Name']].copy()\n",
    "df2.to_csv('datasets/BIST_30_stockNames.csv', encoding='utf-8', index=False)\n",
    "\n",
    "df3.head()"
   ]
  },
  {
   "cell_type": "code",
   "execution_count": 26,
   "metadata": {},
   "outputs": [
    {
     "data": {
      "text/html": [
       "<div>\n",
       "<style scoped>\n",
       "    .dataframe tbody tr th:only-of-type {\n",
       "        vertical-align: middle;\n",
       "    }\n",
       "\n",
       "    .dataframe tbody tr th {\n",
       "        vertical-align: top;\n",
       "    }\n",
       "\n",
       "    .dataframe thead th {\n",
       "        text-align: right;\n",
       "    }\n",
       "</style>\n",
       "<table border=\"1\" class=\"dataframe\">\n",
       "  <thead>\n",
       "    <tr style=\"text-align: right;\">\n",
       "      <th></th>\n",
       "      <th>Link</th>\n",
       "      <th>Full_Name</th>\n",
       "      <th>Stock_Name</th>\n",
       "    </tr>\n",
       "  </thead>\n",
       "  <tbody>\n",
       "    <tr>\n",
       "      <th>0</th>\n",
       "      <td>www.investing.com/equities/kardemir-(d)</td>\n",
       "      <td>Kardemir Karabuk Demir Celik Sanayi ve Ticaret...</td>\n",
       "      <td>KRDMD</td>\n",
       "    </tr>\n",
       "    <tr>\n",
       "      <th>1</th>\n",
       "      <td>www.investing.com/equities/sise-cam</td>\n",
       "      <td>Turkiye Sise ve Cam Fabrikalari AS (SISE)</td>\n",
       "      <td>SISE</td>\n",
       "    </tr>\n",
       "    <tr>\n",
       "      <th>2</th>\n",
       "      <td>www.investing.com/equities/yapi-ve-kredi-bank.</td>\n",
       "      <td>Yapi ve Kredi Bankasi AS (YKBNK)</td>\n",
       "      <td>YKBNK</td>\n",
       "    </tr>\n",
       "    <tr>\n",
       "      <th>3</th>\n",
       "      <td>www.investing.com/equities/petkim</td>\n",
       "      <td>Petkim Petrokimya Holding AS (PETKM)</td>\n",
       "      <td>PETKM</td>\n",
       "    </tr>\n",
       "    <tr>\n",
       "      <th>4</th>\n",
       "      <td>www.investing.com/equities/emlak-konut-gmyo</td>\n",
       "      <td>Emlak Konut Gayrimenkul Yatirim Ortakligi AS (...</td>\n",
       "      <td>EKGYO</td>\n",
       "    </tr>\n",
       "  </tbody>\n",
       "</table>\n",
       "</div>"
      ],
      "text/plain": [
       "                                             Link  \\\n",
       "0         www.investing.com/equities/kardemir-(d)   \n",
       "1             www.investing.com/equities/sise-cam   \n",
       "2  www.investing.com/equities/yapi-ve-kredi-bank.   \n",
       "3               www.investing.com/equities/petkim   \n",
       "4     www.investing.com/equities/emlak-konut-gmyo   \n",
       "\n",
       "                                           Full_Name Stock_Name  \n",
       "0  Kardemir Karabuk Demir Celik Sanayi ve Ticaret...      KRDMD  \n",
       "1          Turkiye Sise ve Cam Fabrikalari AS (SISE)       SISE  \n",
       "2                   Yapi ve Kredi Bankasi AS (YKBNK)      YKBNK  \n",
       "3               Petkim Petrokimya Holding AS (PETKM)      PETKM  \n",
       "4  Emlak Konut Gayrimenkul Yatirim Ortakligi AS (...      EKGYO  "
      ]
     },
     "execution_count": 26,
     "metadata": {},
     "output_type": "execute_result"
    }
   ],
   "source": [
    "df3 = pd.read_csv(\"datasets/BIST_30_stockNames.csv\") \n",
    "df3.head()"
   ]
  },
  {
   "cell_type": "code",
   "execution_count": 27,
   "metadata": {},
   "outputs": [],
   "source": [
    "\n",
    "## getting stocks historical data using investPy\n",
    "\n",
    "for stock in df3.Stock_Name: ## dont forget to create Bist30_data folder in your directory // too lazy to code it\n",
    "#     print(stock)\n",
    "    df4 = investpy.get_stock_historical_data(stock=stock,country='turkey',from_date='01/01/2010',to_date='01/08/2020')\n",
    "    df4.to_csv(f'datasets/stocks_hist_data_bist30/{stock}_2010-2020.csv', encoding='utf-8')\n"
   ]
  },
  {
   "cell_type": "code",
   "execution_count": null,
   "metadata": {},
   "outputs": [],
   "source": []
  }
 ],
 "metadata": {
  "kernelspec": {
   "display_name": "Python 3",
   "language": "python",
   "name": "python3"
  },
  "language_info": {
   "codemirror_mode": {
    "name": "ipython",
    "version": 3
   },
   "file_extension": ".py",
   "mimetype": "text/x-python",
   "name": "python",
   "nbconvert_exporter": "python",
   "pygments_lexer": "ipython3",
   "version": "3.7.6"
  }
 },
 "nbformat": 4,
 "nbformat_minor": 4
}
