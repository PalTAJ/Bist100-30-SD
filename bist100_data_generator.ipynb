{
 "cells": [
  {
   "cell_type": "code",
   "execution_count": 6,
   "metadata": {},
   "outputs": [],
   "source": [
    "import investpy\n",
    "import pandas as pd \n",
    "\n",
    "from urllib.request import urlopen, Request\n",
    "\n"
   ]
  },
  {
   "cell_type": "code",
   "execution_count": 65,
   "metadata": {},
   "outputs": [
    {
     "name": "stdout",
     "output_type": "stream",
     "text": [
      "100\n"
     ]
    }
   ],
   "source": [
    "url = 'https://www.investing.com/equities/turkey'\n",
    "\n",
    "list_of_stock_links = []\n",
    "\n",
    "\n",
    "### Getting links for stocks\n",
    "try: \n",
    "    headers = {'User-Agent': 'Mozilla/5.0 (Windows NT 6.1) AppleWebKit/537.36 (KHTML, like Gecko) Chrome/41.0.2228.0 Safari/537.3'}\n",
    "    reg_url = url\n",
    "    req = Request(url=reg_url, headers=headers) \n",
    "    html = urlopen(req).read()     \n",
    "    soup = BeautifulSoup(html, \"html.parser\")\n",
    "    \n",
    "    data = soup.findAll('table', {'id': 'cross_rate_markets_stocks_1'})\n",
    "    data2 = data[0].findAll('tbody')[0].findAll('tr')\n",
    "    \n",
    "    for stock in data2:\n",
    "        link = str(stock.findAll('a')).split('href=\"')[1].split('\"')[0]\n",
    "        list_of_stock_links.append(f\"www.investing.com{link}\")\n",
    "        \n",
    "except HTTPError as http_err:\n",
    "    print(f'HTTP error occurred: {http_err}')  \n",
    "except Exception as err:\n",
    "    print(f'Other error occurred: {err}')  \n",
    "except Exception as err:\n",
    "    print(f'Other error occurred: {err}')  \n",
    "    \n",
    "print(len(list_of_stock_links))\n",
    "\n",
    "\n"
   ]
  },
  {
   "cell_type": "code",
   "execution_count": 67,
   "metadata": {},
   "outputs": [
    {
     "data": {
      "text/html": [
       "<div>\n",
       "<style scoped>\n",
       "    .dataframe tbody tr th:only-of-type {\n",
       "        vertical-align: middle;\n",
       "    }\n",
       "\n",
       "    .dataframe tbody tr th {\n",
       "        vertical-align: top;\n",
       "    }\n",
       "\n",
       "    .dataframe thead th {\n",
       "        text-align: right;\n",
       "    }\n",
       "</style>\n",
       "<table border=\"1\" class=\"dataframe\">\n",
       "  <thead>\n",
       "    <tr style=\"text-align: right;\">\n",
       "      <th></th>\n",
       "      <th>Links</th>\n",
       "    </tr>\n",
       "  </thead>\n",
       "  <tbody>\n",
       "    <tr>\n",
       "      <th>0</th>\n",
       "      <td>www.investing.com/equities/anadolu-efes</td>\n",
       "    </tr>\n",
       "    <tr>\n",
       "      <th>1</th>\n",
       "      <td>www.investing.com/equities/afyon-cimento</td>\n",
       "    </tr>\n",
       "    <tr>\n",
       "      <th>2</th>\n",
       "      <td>www.investing.com/equities/akbank</td>\n",
       "    </tr>\n",
       "    <tr>\n",
       "      <th>3</th>\n",
       "      <td>www.investing.com/equities/aksa</td>\n",
       "    </tr>\n",
       "    <tr>\n",
       "      <th>4</th>\n",
       "      <td>www.investing.com/equities/aksa-enerji-uretim</td>\n",
       "    </tr>\n",
       "  </tbody>\n",
       "</table>\n",
       "</div>"
      ],
      "text/plain": [
       "                                           Links\n",
       "0        www.investing.com/equities/anadolu-efes\n",
       "1       www.investing.com/equities/afyon-cimento\n",
       "2              www.investing.com/equities/akbank\n",
       "3                www.investing.com/equities/aksa\n",
       "4  www.investing.com/equities/aksa-enerji-uretim"
      ]
     },
     "execution_count": 67,
     "metadata": {},
     "output_type": "execute_result"
    }
   ],
   "source": [
    "df = pd.DataFrame(list_of_stock_links, columns =['Links'])\n",
    "df.to_csv('BIST_100_links.csv', encoding='utf-8', index=False)\n",
    "\n",
    "df.head() "
   ]
  },
  {
   "cell_type": "code",
   "execution_count": 90,
   "metadata": {},
   "outputs": [
    {
     "name": "stdout",
     "output_type": "stream",
     "text": [
      "100\n"
     ]
    }
   ],
   "source": [
    "bist100_links_stockname = []\n",
    "\n",
    "## Getting stocks names, full names\n",
    "for url in list_of_stock_links:\n",
    "    try: \n",
    "        \n",
    "        headers = {'User-Agent': 'Mozilla/5.0 (Windows NT 6.1) AppleWebKit/537.36 (KHTML, like Gecko) Chrome/41.0.2228.0 Safari/537.3'}\n",
    "        reg_url = 'http://'+url\n",
    "        req = Request(url=reg_url, headers=headers) \n",
    "        html = urlopen(req).read()     \n",
    "        soup = BeautifulSoup(html, \"html.parser\")\n",
    "        data = soup.findAll('div', {'class': 'instrumentHead'})[0]\n",
    "        full_name = str(data).split('\"name\">')[1].split('</h1>')[0].strip()\n",
    "        stock_name = str(data).split('\"name\">')[1].split('</h1>')[0].strip().split('(')[1].split(')')[0]\n",
    "        bist100_links_stockname.append([url ,full_name ,stock_name])\n",
    "        \n",
    "\n",
    "    except HTTPError as http_err:\n",
    "        print(f'HTTP error occurred: {http_err}')  \n",
    "    except Exception as err:\n",
    "        print(f'Other error occurred: {err}')  \n",
    "    except Exception as err:\n",
    "        print(f'Other error occurred: {err}')  \n",
    "    \n",
    "print(len(bist100_links_stockname))"
   ]
  },
  {
   "cell_type": "code",
   "execution_count": 92,
   "metadata": {},
   "outputs": [
    {
     "data": {
      "text/html": [
       "<div>\n",
       "<style scoped>\n",
       "    .dataframe tbody tr th:only-of-type {\n",
       "        vertical-align: middle;\n",
       "    }\n",
       "\n",
       "    .dataframe tbody tr th {\n",
       "        vertical-align: top;\n",
       "    }\n",
       "\n",
       "    .dataframe thead th {\n",
       "        text-align: right;\n",
       "    }\n",
       "</style>\n",
       "<table border=\"1\" class=\"dataframe\">\n",
       "  <thead>\n",
       "    <tr style=\"text-align: right;\">\n",
       "      <th></th>\n",
       "      <th>Link</th>\n",
       "      <th>Full_Name</th>\n",
       "      <th>Stock_Name</th>\n",
       "    </tr>\n",
       "  </thead>\n",
       "  <tbody>\n",
       "    <tr>\n",
       "      <th>0</th>\n",
       "      <td>www.investing.com/equities/anadolu-efes</td>\n",
       "      <td>Anadolu Efes Biracilik ve Malt Sanayi AS (AEFES)</td>\n",
       "      <td>AEFES</td>\n",
       "    </tr>\n",
       "    <tr>\n",
       "      <th>1</th>\n",
       "      <td>www.investing.com/equities/afyon-cimento</td>\n",
       "      <td>Afyon Cimento Sanayi TAS (AFYON)</td>\n",
       "      <td>AFYON</td>\n",
       "    </tr>\n",
       "    <tr>\n",
       "      <th>2</th>\n",
       "      <td>www.investing.com/equities/akbank</td>\n",
       "      <td>Akbank TAS (AKBNK)</td>\n",
       "      <td>AKBNK</td>\n",
       "    </tr>\n",
       "    <tr>\n",
       "      <th>3</th>\n",
       "      <td>www.investing.com/equities/aksa</td>\n",
       "      <td>Aksa Akrilik Kimya Sanayi AS (AKSA)</td>\n",
       "      <td>AKSA</td>\n",
       "    </tr>\n",
       "    <tr>\n",
       "      <th>4</th>\n",
       "      <td>www.investing.com/equities/aksa-enerji-uretim</td>\n",
       "      <td>Aksa Enerji Uretim AS (AKSEN)</td>\n",
       "      <td>AKSEN</td>\n",
       "    </tr>\n",
       "  </tbody>\n",
       "</table>\n",
       "</div>"
      ],
      "text/plain": [
       "                                            Link  \\\n",
       "0        www.investing.com/equities/anadolu-efes   \n",
       "1       www.investing.com/equities/afyon-cimento   \n",
       "2              www.investing.com/equities/akbank   \n",
       "3                www.investing.com/equities/aksa   \n",
       "4  www.investing.com/equities/aksa-enerji-uretim   \n",
       "\n",
       "                                          Full_Name Stock_Name  \n",
       "0  Anadolu Efes Biracilik ve Malt Sanayi AS (AEFES)      AEFES  \n",
       "1                  Afyon Cimento Sanayi TAS (AFYON)      AFYON  \n",
       "2                                Akbank TAS (AKBNK)      AKBNK  \n",
       "3               Aksa Akrilik Kimya Sanayi AS (AKSA)       AKSA  \n",
       "4                     Aksa Enerji Uretim AS (AKSEN)      AKSEN  "
      ]
     },
     "execution_count": 92,
     "metadata": {},
     "output_type": "execute_result"
    }
   ],
   "source": [
    "df2 = pd.DataFrame(bist100_links_stockname, columns =['Link','Full_Name','Stock_Name'])\n",
    "df2.to_csv('BIST_100_links_stockName.csv', encoding='utf-8', index=False)\n",
    "\n",
    "df2.head() "
   ]
  },
  {
   "cell_type": "code",
   "execution_count": 96,
   "metadata": {},
   "outputs": [
    {
     "data": {
      "text/html": [
       "<div>\n",
       "<style scoped>\n",
       "    .dataframe tbody tr th:only-of-type {\n",
       "        vertical-align: middle;\n",
       "    }\n",
       "\n",
       "    .dataframe tbody tr th {\n",
       "        vertical-align: top;\n",
       "    }\n",
       "\n",
       "    .dataframe thead th {\n",
       "        text-align: right;\n",
       "    }\n",
       "</style>\n",
       "<table border=\"1\" class=\"dataframe\">\n",
       "  <thead>\n",
       "    <tr style=\"text-align: right;\">\n",
       "      <th></th>\n",
       "      <th>Stock_Name</th>\n",
       "    </tr>\n",
       "  </thead>\n",
       "  <tbody>\n",
       "    <tr>\n",
       "      <th>0</th>\n",
       "      <td>AEFES</td>\n",
       "    </tr>\n",
       "    <tr>\n",
       "      <th>1</th>\n",
       "      <td>AFYON</td>\n",
       "    </tr>\n",
       "    <tr>\n",
       "      <th>2</th>\n",
       "      <td>AKBNK</td>\n",
       "    </tr>\n",
       "    <tr>\n",
       "      <th>3</th>\n",
       "      <td>AKSA</td>\n",
       "    </tr>\n",
       "    <tr>\n",
       "      <th>4</th>\n",
       "      <td>AKSEN</td>\n",
       "    </tr>\n",
       "  </tbody>\n",
       "</table>\n",
       "</div>"
      ],
      "text/plain": [
       "  Stock_Name\n",
       "0      AEFES\n",
       "1      AFYON\n",
       "2      AKBNK\n",
       "3       AKSA\n",
       "4      AKSEN"
      ]
     },
     "execution_count": 96,
     "metadata": {},
     "output_type": "execute_result"
    }
   ],
   "source": [
    "df3 = df2[['Stock_Name']].copy()\n",
    "df2.to_csv('BIST_100_stockNames.csv', encoding='utf-8', index=False)\n",
    "\n",
    "df3.head()\n"
   ]
  },
  {
   "cell_type": "code",
   "execution_count": 7,
   "metadata": {},
   "outputs": [],
   "source": [
    "df3 = pd.read_csv(\"BIST_100_stockNames.csv\") \n"
   ]
  },
  {
   "cell_type": "code",
   "execution_count": 10,
   "metadata": {},
   "outputs": [],
   "source": [
    "\n",
    "## getting stocks historical data using investPy\n",
    "\n",
    "for stock in df3.Stock_Name: ## dont forget to create Bist100_data folder in your directory // too lazy to code it\n",
    "#     print(stock)\n",
    "    df4 = investpy.get_stock_historical_data(stock=stock,country='turkey',from_date='01/01/2010',to_date='01/03/2020')\n",
    "    df4.to_csv(f'Bist100_data/{stock}_2010-2020.csv', encoding='utf-8')\n"
   ]
  },
  {
   "cell_type": "code",
   "execution_count": null,
   "metadata": {},
   "outputs": [],
   "source": []
  }
 ],
 "metadata": {
  "kernelspec": {
   "display_name": "Python 3",
   "language": "python",
   "name": "python3"
  },
  "language_info": {
   "codemirror_mode": {
    "name": "ipython",
    "version": 3
   },
   "file_extension": ".py",
   "mimetype": "text/x-python",
   "name": "python",
   "nbconvert_exporter": "python",
   "pygments_lexer": "ipython3",
   "version": "3.6.10"
  }
 },
 "nbformat": 4,
 "nbformat_minor": 4
}
